{
 "cells": [
  {
   "cell_type": "markdown",
   "metadata": {},
   "source": [
    "# Topic Modelling for News"
   ]
  },
  {
   "cell_type": "markdown",
   "metadata": {},
   "source": [
    "![](https://images.unsplash.com/photo-1495020689067-958852a7765e?ixlib=rb-1.2.1&ixid=eyJhcHBfaWQiOjEyMDd9&auto=format&fit=crop&w=1050&q=80)\n",
    "\n",
    "Photo by [Roman Kraft](https://unsplash.com/photos/_Zua2hyvTBk)"
   ]
  },
  {
   "cell_type": "markdown",
   "metadata": {},
   "source": [
    "This exercise is about modelling the main topics of a database of News headlines."
   ]
  },
  {
   "cell_type": "markdown",
   "metadata": {},
   "source": [
    "Begin by importing the needed libraries:"
   ]
  },
  {
   "cell_type": "code",
   "execution_count": 1,
   "metadata": {},
   "outputs": [],
   "source": [
    "# TODO: import needed libraries\n",
    "import nltk \n",
    "import numpy as np\n",
    "import pandas as pd"
   ]
  },
  {
   "cell_type": "markdown",
   "metadata": {},
   "source": [
    "Load the data in the file `random_headlines.csv`"
   ]
  },
  {
   "cell_type": "code",
   "execution_count": 2,
   "metadata": {
    "scrolled": true
   },
   "outputs": [
    {
     "name": "stdout",
     "output_type": "stream",
     "text": [
      "(20000, 2)\n"
     ]
    },
    {
     "data": {
      "text/html": [
       "<div>\n",
       "<style scoped>\n",
       "    .dataframe tbody tr th:only-of-type {\n",
       "        vertical-align: middle;\n",
       "    }\n",
       "\n",
       "    .dataframe tbody tr th {\n",
       "        vertical-align: top;\n",
       "    }\n",
       "\n",
       "    .dataframe thead th {\n",
       "        text-align: right;\n",
       "    }\n",
       "</style>\n",
       "<table border=\"1\" class=\"dataframe\">\n",
       "  <thead>\n",
       "    <tr style=\"text-align: right;\">\n",
       "      <th></th>\n",
       "      <th>publish_date</th>\n",
       "      <th>headline_text</th>\n",
       "    </tr>\n",
       "  </thead>\n",
       "  <tbody>\n",
       "    <tr>\n",
       "      <th>0</th>\n",
       "      <td>20120305</td>\n",
       "      <td>ute driver hurt in intersection crash</td>\n",
       "    </tr>\n",
       "    <tr>\n",
       "      <th>1</th>\n",
       "      <td>20081128</td>\n",
       "      <td>6yo dies in cycling accident</td>\n",
       "    </tr>\n",
       "    <tr>\n",
       "      <th>2</th>\n",
       "      <td>20090325</td>\n",
       "      <td>bumper olive harvest expected</td>\n",
       "    </tr>\n",
       "    <tr>\n",
       "      <th>3</th>\n",
       "      <td>20100201</td>\n",
       "      <td>replica replaces northernmost sign</td>\n",
       "    </tr>\n",
       "    <tr>\n",
       "      <th>4</th>\n",
       "      <td>20080225</td>\n",
       "      <td>woods targets perfect season</td>\n",
       "    </tr>\n",
       "  </tbody>\n",
       "</table>\n",
       "</div>"
      ],
      "text/plain": [
       "   publish_date                          headline_text\n",
       "0      20120305  ute driver hurt in intersection crash\n",
       "1      20081128           6yo dies in cycling accident\n",
       "2      20090325          bumper olive harvest expected\n",
       "3      20100201     replica replaces northernmost sign\n",
       "4      20080225           woods targets perfect season"
      ]
     },
     "execution_count": 2,
     "metadata": {},
     "output_type": "execute_result"
    }
   ],
   "source": [
    "# TODO: load the dataset\n",
    "df = pd.read_csv('random_headlines.csv')\n",
    "print(df.shape)\n",
    "df.head()"
   ]
  },
  {
   "cell_type": "markdown",
   "metadata": {},
   "source": [
    "This is always a good idea to perform some EDA (exploratory data analytics) on a dataset..."
   ]
  },
  {
   "cell_type": "code",
   "execution_count": 5,
   "metadata": {},
   "outputs": [
    {
     "name": "stdout",
     "output_type": "stream",
     "text": [
      "<class 'pandas.core.frame.DataFrame'>\n",
      "RangeIndex: 20000 entries, 0 to 19999\n",
      "Data columns (total 2 columns):\n",
      " #   Column         Non-Null Count  Dtype \n",
      "---  ------         --------------  ----- \n",
      " 0   publish_date   20000 non-null  int64 \n",
      " 1   headline_text  20000 non-null  object\n",
      "dtypes: int64(1), object(1)\n",
      "memory usage: 312.6+ KB\n"
     ]
    }
   ],
   "source": [
    "# TODO: Perform a short EDA\n",
    "df.info()"
   ]
  },
  {
   "cell_type": "markdown",
   "metadata": {},
   "source": [
    "Now perform all the needed preprocessing on those headlines: case lowering, tokenization, punctuation removal, stopwords removal, stemming/lemmatization."
   ]
  },
  {
   "cell_type": "code",
   "execution_count": 6,
   "metadata": {},
   "outputs": [
    {
     "data": {
      "text/plain": [
       "0    [ute, driver, hurt, intersect, crash]\n",
       "1                       [die, cycl, accid]\n",
       "2          [bumper, oliv, harvest, expect]\n",
       "3    [replica, replac, northernmost, sign]\n",
       "4          [wood, target, perfect, season]\n",
       "Name: stemmed, dtype: object"
      ]
     },
     "execution_count": 6,
     "metadata": {},
     "output_type": "execute_result"
    }
   ],
   "source": [
    "# TODO: Preprocess the input data\n",
    "# tokenize\n",
    "df['tokens'] = df['headline_text'].apply(lambda row:nltk.word_tokenize(row))\n",
    "# punctuation\n",
    "df['alphanumeric'] = df['tokens'].apply(lambda row: [word for word in row if word.isalpha()])\n",
    "# remove stopwords\n",
    "stop = nltk.corpus.stopwords.words('english')\n",
    "df['stop'] = df['alphanumeric'].apply(lambda row: [word for word in row if word not in stop])\n",
    "# stemming\n",
    "stemmer = nltk.PorterStemmer()\n",
    "df['stemmed'] = df['stop'].apply(lambda row: [stemmer.stem(word) for word in row])\n",
    "df['stemmed'].head()"
   ]
  },
  {
   "cell_type": "markdown",
   "metadata": {},
   "source": [
    "Now use Gensim to compute a BOW"
   ]
  },
  {
   "cell_type": "code",
   "execution_count": 7,
   "metadata": {},
   "outputs": [
    {
     "name": "stdout",
     "output_type": "stream",
     "text": [
      "Requirement already satisfied: gensim in /opt/anaconda3/lib/python3.11/site-packages (4.3.0)\n",
      "Requirement already satisfied: numpy>=1.18.5 in /opt/anaconda3/lib/python3.11/site-packages (from gensim) (1.26.4)\n",
      "Requirement already satisfied: scipy>=1.7.0 in /opt/anaconda3/lib/python3.11/site-packages (from gensim) (1.11.4)\n",
      "Requirement already satisfied: smart-open>=1.8.1 in /opt/anaconda3/lib/python3.11/site-packages (from gensim) (5.2.1)\n",
      "Collecting FuzzyTM>=0.4.0 (from gensim)\n",
      "  Downloading FuzzyTM-2.0.9-py3-none-any.whl.metadata (7.9 kB)\n",
      "Requirement already satisfied: pandas in /opt/anaconda3/lib/python3.11/site-packages (from FuzzyTM>=0.4.0->gensim) (2.1.4)\n",
      "Collecting pyfume (from FuzzyTM>=0.4.0->gensim)\n",
      "  Downloading pyFUME-0.3.1-py3-none-any.whl.metadata (9.7 kB)\n",
      "Requirement already satisfied: python-dateutil>=2.8.2 in /opt/anaconda3/lib/python3.11/site-packages (from pandas->FuzzyTM>=0.4.0->gensim) (2.8.2)\n",
      "Requirement already satisfied: pytz>=2020.1 in /opt/anaconda3/lib/python3.11/site-packages (from pandas->FuzzyTM>=0.4.0->gensim) (2023.3.post1)\n",
      "Requirement already satisfied: tzdata>=2022.1 in /opt/anaconda3/lib/python3.11/site-packages (from pandas->FuzzyTM>=0.4.0->gensim) (2023.3)\n",
      "Collecting simpful (from pyfume->FuzzyTM>=0.4.0->gensim)\n",
      "  Downloading simpful-2.12.0-py3-none-any.whl.metadata (4.8 kB)\n",
      "Collecting fst-pso (from pyfume->FuzzyTM>=0.4.0->gensim)\n",
      "  Downloading fst-pso-1.8.1.tar.gz (18 kB)\n",
      "  Preparing metadata (setup.py) ... \u001b[?25ldone\n",
      "\u001b[?25hRequirement already satisfied: typing-extensions in /opt/anaconda3/lib/python3.11/site-packages (from pyfume->FuzzyTM>=0.4.0->gensim) (4.9.0)\n",
      "Requirement already satisfied: six>=1.5 in /opt/anaconda3/lib/python3.11/site-packages (from python-dateutil>=2.8.2->pandas->FuzzyTM>=0.4.0->gensim) (1.16.0)\n",
      "Collecting miniful (from fst-pso->pyfume->FuzzyTM>=0.4.0->gensim)\n",
      "  Downloading miniful-0.0.6.tar.gz (2.8 kB)\n",
      "  Preparing metadata (setup.py) ... \u001b[?25ldone\n",
      "\u001b[?25hDownloading FuzzyTM-2.0.9-py3-none-any.whl (31 kB)\n",
      "Downloading pyFUME-0.3.1-py3-none-any.whl (59 kB)\n",
      "\u001b[2K   \u001b[90m━━━━━━━━━━━━━━━━━━━━━━━━━━━━━━━━━━━━━━━━\u001b[0m \u001b[32m59.6/59.6 kB\u001b[0m \u001b[31m4.4 MB/s\u001b[0m eta \u001b[36m0:00:00\u001b[0m\n",
      "\u001b[?25hDownloading simpful-2.12.0-py3-none-any.whl (24 kB)\n",
      "Building wheels for collected packages: fst-pso, miniful\n",
      "  Building wheel for fst-pso (setup.py) ... \u001b[?25ldone\n",
      "\u001b[?25h  Created wheel for fst-pso: filename=fst_pso-1.8.1-py3-none-any.whl size=20430 sha256=2c717709026b03fb0be3dc3952302bb5714f9ecf40b9e674e5d5d078cc31ceca\n",
      "  Stored in directory: /Users/omkarkulkarni/Library/Caches/pip/wheels/69/f5/e5/18ad53fe1ed6b2af9fad05ec052e4acbac8e92441df44bad2e\n",
      "  Building wheel for miniful (setup.py) ... \u001b[?25ldone\n",
      "\u001b[?25h  Created wheel for miniful: filename=miniful-0.0.6-py3-none-any.whl size=3507 sha256=130263d34a973d7e3dc9eac4b88e79c7039ecf164ca85e05cbda06ea959f899d\n",
      "  Stored in directory: /Users/omkarkulkarni/Library/Caches/pip/wheels/9d/ff/2f/afe4cd56f47de147407705626517d68bea0f3b74eb1fb168e6\n",
      "Successfully built fst-pso miniful\n",
      "Installing collected packages: simpful, miniful, fst-pso, pyfume, FuzzyTM\n",
      "Successfully installed FuzzyTM-2.0.9 fst-pso-1.8.1 miniful-0.0.6 pyfume-0.3.1 simpful-2.12.0\n"
     ]
    }
   ],
   "source": [
    "!pip install gensim"
   ]
  },
  {
   "cell_type": "code",
   "execution_count": 8,
   "metadata": {},
   "outputs": [
    {
     "name": "stdout",
     "output_type": "stream",
     "text": [
      "20000\n"
     ]
    },
    {
     "data": {
      "text/plain": [
       "[[(0, 1), (1, 1), (2, 1), (3, 1), (4, 1)], [(5, 1), (6, 1), (7, 1)]]"
      ]
     },
     "execution_count": 8,
     "metadata": {},
     "output_type": "execute_result"
    }
   ],
   "source": [
    "# TODO: Compute the BOW using Gensim\n",
    "from gensim.corpora import Dictionary\n",
    "\n",
    "dictionary = Dictionary(df['stemmed'])\n",
    "corpus = [dictionary.doc2bow(line) for line in df['stemmed']]\n",
    "print(len(corpus))\n",
    "corpus[0:2]"
   ]
  },
  {
   "cell_type": "markdown",
   "metadata": {},
   "source": [
    "Compute the TF-IDF using Gensim"
   ]
  },
  {
   "cell_type": "code",
   "execution_count": 9,
   "metadata": {},
   "outputs": [
    {
     "name": "stdout",
     "output_type": "stream",
     "text": [
      "20000\n"
     ]
    }
   ],
   "source": [
    "# TODO: Compute TF-IDF\n",
    "from gensim.models import TfidfModel\n",
    "\n",
    "tfidf_model = TfidfModel(corpus)\n",
    "tf_idf = tfidf_model[corpus]\n",
    "print(len(tf_idf))"
   ]
  },
  {
   "cell_type": "markdown",
   "metadata": {},
   "source": [
    "Finally compute the **LSA** (also called LSI) using Gensim, for a given number of Topics that you choose yourself"
   ]
  },
  {
   "cell_type": "code",
   "execution_count": 10,
   "metadata": {},
   "outputs": [],
   "source": [
    "# TODO: Compute LSA\n",
    "from gensim.models import LsiModel\n",
    "lsi = LsiModel(corpus = corpus, num_topics = 4, id2word = dictionary)"
   ]
  },
  {
   "cell_type": "markdown",
   "metadata": {},
   "source": [
    "For each of the topic, show the most significant words."
   ]
  },
  {
   "cell_type": "code",
   "execution_count": 11,
   "metadata": {},
   "outputs": [
    {
     "data": {
      "text/plain": [
       "[(0, '-0.752*\"polic\" + -0.404*\"man\" + -0.208*\"charg\"'),\n",
       " (1, '0.670*\"man\" + -0.575*\"polic\" + 0.328*\"charg\"'),\n",
       " (2, '-0.653*\"new\" + -0.296*\"plan\" + 0.243*\"man\"'),\n",
       " (3, '-0.704*\"new\" + 0.340*\"say\" + 0.334*\"plan\"')]"
      ]
     },
     "execution_count": 11,
     "metadata": {},
     "output_type": "execute_result"
    }
   ],
   "source": [
    "# TODO: Print the 3 or 4 most significant words of each topic\n",
    "lsi.print_topics(num_words = 3)"
   ]
  },
  {
   "cell_type": "markdown",
   "metadata": {},
   "source": [
    "What do you think about those results?"
   ]
  },
  {
   "cell_type": "markdown",
   "metadata": {},
   "source": [
    "Now let's try to use LDA instead of LSA using Gensim"
   ]
  },
  {
   "cell_type": "code",
   "execution_count": 12,
   "metadata": {},
   "outputs": [],
   "source": [
    "# TODO: Compute LDA\n",
    "from gensim.models import LdaModel\n",
    "lda = LdaModel(corpus = corpus, num_topics = 4, id2word = dictionary, random_state = 0, chunksize = 512, passes = 5)"
   ]
  },
  {
   "cell_type": "code",
   "execution_count": 13,
   "metadata": {
    "scrolled": true
   },
   "outputs": [
    {
     "data": {
      "text/plain": [
       "[(0, '0.016*\"report\" + 0.009*\"back\" + 0.009*\"may\"'),\n",
       " (1, '0.012*\"mine\" + 0.011*\"polic\" + 0.009*\"elect\"'),\n",
       " (2, '0.013*\"question\" + 0.010*\"council\" + 0.010*\"fund\"'),\n",
       " (3, '0.012*\"sydney\" + 0.012*\"charg\" + 0.011*\"australian\"')]"
      ]
     },
     "execution_count": 13,
     "metadata": {},
     "output_type": "execute_result"
    }
   ],
   "source": [
    "# TODO: print the most frequent words of each topic\n",
    "lda.print_topics(num_words = 3)"
   ]
  },
  {
   "cell_type": "markdown",
   "metadata": {},
   "source": [
    "Now, how does it work with LDA?"
   ]
  },
  {
   "cell_type": "markdown",
   "metadata": {},
   "source": [
    "The LSA result appears to capture associations between words such as \"police,\" \"man,\" and \"charges,\" while the LDA result identifies topics related to \"reports,\" \"mining,\" \"police,\" and \"charges.\" The main difference lies in their approaches: LSA relies on singular value decomposition to identify latent topics, while LDA utilizes a probabilistic model based on the Dirichlet distribution to assign words to topics. LSA emphasizes the co-occurrence of words, whereas LDA emphasizes the distribution of words within documents."
   ]
  },
  {
   "cell_type": "markdown",
   "metadata": {},
   "source": [
    "Let's make some visualization of the LDA results using pyLDAvis."
   ]
  },
  {
   "cell_type": "code",
   "execution_count": 14,
   "metadata": {},
   "outputs": [
    {
     "name": "stdout",
     "output_type": "stream",
     "text": [
      "Collecting pyLDAvis\n",
      "  Downloading pyLDAvis-3.4.1-py3-none-any.whl.metadata (4.2 kB)\n",
      "Requirement already satisfied: numpy>=1.24.2 in /opt/anaconda3/lib/python3.11/site-packages (from pyLDAvis) (1.26.4)\n",
      "Requirement already satisfied: scipy in /opt/anaconda3/lib/python3.11/site-packages (from pyLDAvis) (1.11.4)\n",
      "Requirement already satisfied: pandas>=2.0.0 in /opt/anaconda3/lib/python3.11/site-packages (from pyLDAvis) (2.1.4)\n",
      "Requirement already satisfied: joblib>=1.2.0 in /opt/anaconda3/lib/python3.11/site-packages (from pyLDAvis) (1.2.0)\n",
      "Requirement already satisfied: jinja2 in /opt/anaconda3/lib/python3.11/site-packages (from pyLDAvis) (3.1.3)\n",
      "Requirement already satisfied: numexpr in /opt/anaconda3/lib/python3.11/site-packages (from pyLDAvis) (2.8.7)\n",
      "Collecting funcy (from pyLDAvis)\n",
      "  Downloading funcy-2.0-py2.py3-none-any.whl.metadata (5.9 kB)\n",
      "Requirement already satisfied: scikit-learn>=1.0.0 in /opt/anaconda3/lib/python3.11/site-packages (from pyLDAvis) (1.2.2)\n",
      "Requirement already satisfied: gensim in /opt/anaconda3/lib/python3.11/site-packages (from pyLDAvis) (4.3.0)\n",
      "Requirement already satisfied: setuptools in /opt/anaconda3/lib/python3.11/site-packages (from pyLDAvis) (68.2.2)\n",
      "Requirement already satisfied: python-dateutil>=2.8.2 in /opt/anaconda3/lib/python3.11/site-packages (from pandas>=2.0.0->pyLDAvis) (2.8.2)\n",
      "Requirement already satisfied: pytz>=2020.1 in /opt/anaconda3/lib/python3.11/site-packages (from pandas>=2.0.0->pyLDAvis) (2023.3.post1)\n",
      "Requirement already satisfied: tzdata>=2022.1 in /opt/anaconda3/lib/python3.11/site-packages (from pandas>=2.0.0->pyLDAvis) (2023.3)\n",
      "Requirement already satisfied: threadpoolctl>=2.0.0 in /opt/anaconda3/lib/python3.11/site-packages (from scikit-learn>=1.0.0->pyLDAvis) (2.2.0)\n",
      "Requirement already satisfied: smart-open>=1.8.1 in /opt/anaconda3/lib/python3.11/site-packages (from gensim->pyLDAvis) (5.2.1)\n",
      "Requirement already satisfied: FuzzyTM>=0.4.0 in /opt/anaconda3/lib/python3.11/site-packages (from gensim->pyLDAvis) (2.0.9)\n",
      "Requirement already satisfied: MarkupSafe>=2.0 in /opt/anaconda3/lib/python3.11/site-packages (from jinja2->pyLDAvis) (2.1.3)\n",
      "Requirement already satisfied: pyfume in /opt/anaconda3/lib/python3.11/site-packages (from FuzzyTM>=0.4.0->gensim->pyLDAvis) (0.3.1)\n",
      "Requirement already satisfied: six>=1.5 in /opt/anaconda3/lib/python3.11/site-packages (from python-dateutil>=2.8.2->pandas>=2.0.0->pyLDAvis) (1.16.0)\n",
      "Requirement already satisfied: simpful in /opt/anaconda3/lib/python3.11/site-packages (from pyfume->FuzzyTM>=0.4.0->gensim->pyLDAvis) (2.12.0)\n",
      "Requirement already satisfied: fst-pso in /opt/anaconda3/lib/python3.11/site-packages (from pyfume->FuzzyTM>=0.4.0->gensim->pyLDAvis) (1.8.1)\n",
      "Requirement already satisfied: typing-extensions in /opt/anaconda3/lib/python3.11/site-packages (from pyfume->FuzzyTM>=0.4.0->gensim->pyLDAvis) (4.9.0)\n",
      "Requirement already satisfied: miniful in /opt/anaconda3/lib/python3.11/site-packages (from fst-pso->pyfume->FuzzyTM>=0.4.0->gensim->pyLDAvis) (0.0.6)\n",
      "Downloading pyLDAvis-3.4.1-py3-none-any.whl (2.6 MB)\n",
      "\u001b[2K   \u001b[90m━━━━━━━━━━━━━━━━━━━━━━━━━━━━━━━━━━━━━━━━\u001b[0m \u001b[32m2.6/2.6 MB\u001b[0m \u001b[31m5.9 MB/s\u001b[0m eta \u001b[36m0:00:00\u001b[0ma \u001b[36m0:00:01\u001b[0m\n",
      "\u001b[?25hDownloading funcy-2.0-py2.py3-none-any.whl (30 kB)\n",
      "Installing collected packages: funcy, pyLDAvis\n",
      "Successfully installed funcy-2.0 pyLDAvis-3.4.1\n"
     ]
    }
   ],
   "source": [
    "!pip install pyLDAvis"
   ]
  },
  {
   "cell_type": "code",
   "execution_count": 15,
   "metadata": {},
   "outputs": [
    {
     "data": {
      "text/html": [
       "\n",
       "<link rel=\"stylesheet\" type=\"text/css\" href=\"https://cdn.jsdelivr.net/gh/bmabey/pyLDAvis@3.4.0/pyLDAvis/js/ldavis.v1.0.0.css\">\n",
       "\n",
       "\n",
       "<div id=\"ldavis_el3671762175236967643868532\" style=\"background-color:white;\"></div>\n",
       "<script type=\"text/javascript\">\n",
       "\n",
       "var ldavis_el3671762175236967643868532_data = {\"mdsDat\": {\"x\": [-0.2284945315316067, -0.14962669023107533, 0.21956898930495417, 0.15855223245772823], \"y\": [-0.028623008215597753, -0.01071858530748612, -0.23570057671707034, 0.27504217024015437], \"topics\": [1, 2, 3, 4], \"cluster\": [1, 1, 1, 1], \"Freq\": [26.89490929031779, 26.672351749387644, 23.918296346181318, 22.514442614113246]}, \"tinfo\": {\"Term\": [\"report\", \"question\", \"mine\", \"sydney\", \"charg\", \"council\", \"australian\", \"fund\", \"interview\", \"elect\", \"back\", \"win\", \"may\", \"labor\", \"trial\", \"union\", \"road\", \"cut\", \"call\", \"govern\", \"final\", \"lead\", \"stori\", \"begin\", \"want\", \"urg\", \"warn\", \"govt\", \"forc\", \"attack\", \"question\", \"council\", \"fund\", \"cut\", \"govern\", \"urg\", \"forc\", \"set\", \"want\", \"aussi\", \"support\", \"concern\", \"farmer\", \"approv\", \"group\", \"doctor\", \"claim\", \"hospit\", \"school\", \"mp\", \"citi\", \"coast\", \"team\", \"figur\", \"ban\", \"reduc\", \"titl\", \"men\", \"job\", \"seek\", \"disput\", \"draw\", \"next\", \"drug\", \"govt\", \"plan\", \"new\", \"say\", \"wa\", \"fear\", \"polic\", \"chang\", \"mine\", \"elect\", \"win\", \"road\", \"final\", \"warn\", \"commun\", \"club\", \"run\", \"rise\", \"station\", \"student\", \"drought\", \"perth\", \"woman\", \"rate\", \"found\", \"search\", \"debat\", \"stage\", \"fall\", \"turnbul\", \"held\", \"record\", \"minist\", \"world\", \"injuri\", \"telstra\", \"countri\", \"review\", \"qld\", \"econom\", \"friday\", \"eye\", \"debt\", \"polic\", \"call\", \"water\", \"help\", \"health\", \"take\", \"trade\", \"futur\", \"miss\", \"hit\", \"sydney\", \"charg\", \"australian\", \"interview\", \"trial\", \"stori\", \"lead\", \"murder\", \"market\", \"open\", \"shoot\", \"accus\", \"leav\", \"day\", \"test\", \"two\", \"busi\", \"success\", \"olymp\", \"bu\", \"risk\", \"point\", \"board\", \"arm\", \"pull\", \"full\", \"second\", \"appoint\", \"hope\", \"fourth\", \"latest\", \"sieg\", \"line\", \"sold\", \"man\", \"melbourn\", \"polic\", \"court\", \"us\", \"report\", \"back\", \"may\", \"labor\", \"union\", \"begin\", \"blaze\", \"car\", \"die\", \"drum\", \"work\", \"news\", \"pole\", \"dead\", \"judg\", \"abc\", \"great\", \"rural\", \"collaps\", \"resid\", \"state\", \"train\", \"garrett\", \"iraq\", \"pakistan\", \"big\", \"fail\", \"deni\", \"former\", \"bid\", \"italian\", \"singapor\", \"lock\", \"sunday\", \"paint\", \"attack\", \"pay\", \"crash\", \"call\", \"kill\", \"man\", \"us\"], \"Freq\": [373.0, 354.0, 336.0, 298.0, 284.0, 284.0, 259.0, 264.0, 229.0, 235.0, 203.0, 229.0, 202.0, 190.0, 195.0, 183.0, 206.0, 206.0, 366.0, 199.0, 195.0, 176.0, 175.0, 167.0, 188.0, 183.0, 179.0, 343.0, 180.0, 230.0, 353.684537427963, 283.8701434081572, 264.1848862750806, 206.0588441509367, 198.97893516329546, 182.70430430377442, 179.84908719791014, 172.33295324318152, 187.95133862557407, 167.200284873255, 162.58747341971846, 147.49805465598283, 142.86590596420686, 142.53701873017735, 135.91290322380203, 138.27966554633753, 132.44163125955538, 127.64868154680512, 120.17042545143184, 119.47560828713077, 124.83478574205579, 115.4367980170546, 125.00835833433241, 122.95921496812814, 112.60258847565642, 120.00873787269107, 135.00798471751358, 120.30635146029219, 107.5802387286692, 105.93106782610214, 112.26931984744772, 109.14911191005535, 109.46742469420379, 166.95520946981398, 232.0969429625156, 208.72645792422037, 221.35767042884245, 162.21342313425268, 147.63062716372656, 133.93707433028487, 172.33679499350282, 127.50505918863884, 335.9587397721937, 234.92292000215096, 228.46056604111763, 206.06475745683076, 194.3637983412649, 179.20479763168623, 147.21032482386096, 150.3376899639961, 155.47710874740676, 140.19482590260148, 137.63782062343577, 146.01956593447662, 152.740780523637, 145.52939361634762, 127.95640764680572, 126.62508800975368, 120.22077540540843, 116.98846435667107, 111.62534105997476, 117.16428315789662, 109.05290480760394, 115.30178635401694, 113.86039838786024, 102.20254023585034, 102.1409055394068, 100.66039221963632, 116.17447096334679, 111.87379119668265, 95.22221017177178, 95.70108640588234, 167.029543153081, 115.55360046836823, 111.96533216406954, 113.38135013216565, 104.5211363418801, 291.3565502234938, 185.10224545308108, 129.4305306832877, 137.6410826623627, 123.08716468904986, 125.75459508282786, 121.01973283805391, 121.7100363412857, 118.86386915052331, 118.59009998511307, 298.20172856626874, 283.70362237124493, 258.8385703827866, 229.10145540313826, 194.48898656330235, 175.101883113705, 175.71945810229457, 163.83999235234768, 152.25943577638853, 146.69109117974946, 141.02690002355502, 136.23379503505072, 133.54317825727955, 130.03721440546525, 122.43157051347974, 121.84555587270751, 114.1741288806552, 110.27962538118217, 110.42934849394494, 104.84637781287205, 113.7532747277005, 103.39007686840216, 104.27774307399346, 102.2756606475728, 97.0544570236677, 100.93210624615644, 93.29709591901864, 97.17982999117383, 95.89835646220195, 99.42385984868956, 101.51840655264026, 99.2210828999688, 99.90214423630393, 98.87286782415926, 229.19673063127044, 125.23373403831572, 217.1265544522607, 145.12004403224486, 113.43138660387183, 373.0589297330479, 202.46624391079288, 201.56235629495117, 189.39478731802728, 182.6027445625376, 166.60663565857777, 154.32312821943344, 134.5427293961912, 120.65986490723984, 121.39339967359203, 114.2539610137702, 109.06129682000184, 114.69027641593854, 106.26844800783807, 113.36775619149843, 101.14460042797512, 105.95944011460759, 93.38961985183899, 119.81741531869224, 90.92777486529653, 91.31957136078239, 89.9604916379577, 94.8310256707612, 79.60505943334536, 79.37383862229117, 75.22565316039417, 74.03145688284349, 72.51364612223995, 71.77295326639822, 71.99371928709353, 104.8521035690971, 103.55882879217322, 99.87804344863503, 96.69423710564382, 92.90563404754047, 187.18235146609544, 135.0677599330097, 156.60971564002173, 181.20713760919983, 143.07246156651408, 112.83753052737195, 100.27575572055852], \"Total\": [373.0, 354.0, 336.0, 298.0, 284.0, 284.0, 259.0, 264.0, 229.0, 235.0, 203.0, 229.0, 202.0, 190.0, 195.0, 183.0, 206.0, 206.0, 366.0, 199.0, 195.0, 176.0, 175.0, 167.0, 188.0, 183.0, 179.0, 343.0, 180.0, 230.0, 354.47106770899615, 284.5715322257267, 264.92666047303686, 206.7794950090051, 199.6971266911286, 183.4041351069187, 180.5734087047358, 173.04703995588247, 188.74415626102353, 167.9304532856806, 163.31542311619992, 148.20129845038159, 143.5668775187958, 143.26391692791643, 136.61381297278356, 138.99759019309622, 133.1497096017731, 128.35782660029085, 120.87733962887248, 120.18352052384135, 125.58547889413052, 116.13272760945796, 125.76211374506191, 123.72411230426361, 113.30936949886949, 120.76317005876228, 135.86376042235318, 121.0776559183819, 108.2785135896415, 106.6429392507906, 113.04516909089224, 109.94149958589443, 110.35434292004597, 205.25449776761926, 343.3738118356875, 322.7170052700233, 442.1847199285969, 329.5406284562519, 254.59506352078625, 184.56351706712462, 698.4186798023239, 169.20345361799542, 336.706796202116, 235.6449004550721, 229.17799752858562, 206.7834211040864, 195.0821694211377, 179.92247095137515, 147.9202347464591, 151.0790611117147, 156.2544057771949, 140.8982506316392, 138.3586385800856, 146.78949321441576, 153.54932334463405, 146.30355547788864, 128.67172567925914, 127.35001723366938, 120.93391234165263, 117.69715827409011, 112.33086008048225, 117.90783867430841, 109.76457482168391, 116.06409755210946, 114.63043771297613, 102.91154778522089, 102.84963077799219, 101.36772564317837, 117.00928379388495, 112.69541739895307, 95.92295949816679, 96.41390299543825, 168.44566961242606, 116.47251171856003, 112.87886426690925, 114.37913546254565, 105.56564921970761, 698.4186798023239, 366.78558330737974, 180.51463595493894, 224.3573385036173, 164.4047493809405, 195.05121904059857, 161.48879851039075, 176.48414698443892, 166.20146947070722, 182.08866173836861, 298.92793496602565, 284.42084703079144, 259.6103405566402, 229.8102962856015, 195.22422568255374, 175.83516948132936, 176.45996111836587, 164.5543438715812, 152.98381495478716, 147.41862582524965, 141.75583925614978, 136.9604836895291, 134.2687881013006, 130.75485999424401, 123.1527877222626, 122.57636506887322, 114.90571843597206, 111.01012816217255, 111.17555118823321, 105.5799513755132, 114.57225087378342, 104.1486141753861, 105.04399618794936, 103.02999750701888, 97.77326466186562, 101.69252932986059, 94.00789146173426, 97.9227483854256, 96.63195508741077, 100.18969354012741, 102.32212081663835, 99.99686819063064, 100.73006402909125, 99.84094370697574, 385.37651037094804, 150.8479810135247, 698.4186798023239, 257.2890450064872, 214.18833787548863, 373.7793314638813, 203.17086571681014, 202.26565853634494, 190.15049196163557, 183.34171219100404, 167.31987400285684, 155.0628552344339, 135.23806164529694, 121.34878605342404, 122.09398620309182, 114.95340643733543, 109.7481312106192, 115.41274290718806, 106.96600123809945, 114.11667868721658, 101.82920612945288, 106.67839969711937, 94.07976488389762, 120.70825995380994, 91.62644134859808, 92.02607471853274, 90.66748547140568, 95.60820904399117, 80.29610525884779, 80.08262585698964, 75.93242887047491, 74.72853519180535, 73.21424326556313, 72.47276305806903, 72.70230876389272, 105.9418147018489, 104.6346178503441, 101.02572973499346, 97.94350450908202, 94.82570313546366, 230.01187465462635, 162.42135617633937, 201.36117533286563, 366.78558330737974, 228.6270273038631, 385.37651037094804, 214.18833787548863], \"Category\": [\"Default\", \"Default\", \"Default\", \"Default\", \"Default\", \"Default\", \"Default\", \"Default\", \"Default\", \"Default\", \"Default\", \"Default\", \"Default\", \"Default\", \"Default\", \"Default\", \"Default\", \"Default\", \"Default\", \"Default\", \"Default\", \"Default\", \"Default\", \"Default\", \"Default\", \"Default\", \"Default\", \"Default\", \"Default\", \"Default\", \"Topic1\", \"Topic1\", \"Topic1\", \"Topic1\", \"Topic1\", \"Topic1\", \"Topic1\", \"Topic1\", \"Topic1\", \"Topic1\", \"Topic1\", \"Topic1\", \"Topic1\", \"Topic1\", \"Topic1\", \"Topic1\", \"Topic1\", \"Topic1\", \"Topic1\", \"Topic1\", \"Topic1\", \"Topic1\", \"Topic1\", \"Topic1\", \"Topic1\", \"Topic1\", \"Topic1\", \"Topic1\", \"Topic1\", \"Topic1\", \"Topic1\", \"Topic1\", \"Topic1\", \"Topic1\", \"Topic1\", \"Topic1\", \"Topic1\", \"Topic1\", \"Topic1\", \"Topic1\", \"Topic1\", \"Topic1\", \"Topic2\", \"Topic2\", \"Topic2\", \"Topic2\", \"Topic2\", \"Topic2\", \"Topic2\", \"Topic2\", \"Topic2\", \"Topic2\", \"Topic2\", \"Topic2\", \"Topic2\", \"Topic2\", \"Topic2\", \"Topic2\", \"Topic2\", \"Topic2\", \"Topic2\", \"Topic2\", \"Topic2\", \"Topic2\", \"Topic2\", \"Topic2\", \"Topic2\", \"Topic2\", \"Topic2\", \"Topic2\", \"Topic2\", \"Topic2\", \"Topic2\", \"Topic2\", \"Topic2\", \"Topic2\", \"Topic2\", \"Topic2\", \"Topic2\", \"Topic2\", \"Topic2\", \"Topic2\", \"Topic2\", \"Topic2\", \"Topic2\", \"Topic2\", \"Topic2\", \"Topic3\", \"Topic3\", \"Topic3\", \"Topic3\", \"Topic3\", \"Topic3\", \"Topic3\", \"Topic3\", \"Topic3\", \"Topic3\", \"Topic3\", \"Topic3\", \"Topic3\", \"Topic3\", \"Topic3\", \"Topic3\", \"Topic3\", \"Topic3\", \"Topic3\", \"Topic3\", \"Topic3\", \"Topic3\", \"Topic3\", \"Topic3\", \"Topic3\", \"Topic3\", \"Topic3\", \"Topic3\", \"Topic3\", \"Topic3\", \"Topic3\", \"Topic3\", \"Topic3\", \"Topic3\", \"Topic3\", \"Topic3\", \"Topic3\", \"Topic3\", \"Topic3\", \"Topic4\", \"Topic4\", \"Topic4\", \"Topic4\", \"Topic4\", \"Topic4\", \"Topic4\", \"Topic4\", \"Topic4\", \"Topic4\", \"Topic4\", \"Topic4\", \"Topic4\", \"Topic4\", \"Topic4\", \"Topic4\", \"Topic4\", \"Topic4\", \"Topic4\", \"Topic4\", \"Topic4\", \"Topic4\", \"Topic4\", \"Topic4\", \"Topic4\", \"Topic4\", \"Topic4\", \"Topic4\", \"Topic4\", \"Topic4\", \"Topic4\", \"Topic4\", \"Topic4\", \"Topic4\", \"Topic4\", \"Topic4\", \"Topic4\", \"Topic4\", \"Topic4\", \"Topic4\", \"Topic4\", \"Topic4\"], \"logprob\": [30.0, 29.0, 28.0, 27.0, 26.0, 25.0, 24.0, 23.0, 22.0, 21.0, 20.0, 19.0, 18.0, 17.0, 16.0, 15.0, 14.0, 13.0, 12.0, 11.0, 10.0, 9.0, 8.0, 7.0, 6.0, 5.0, 4.0, 3.0, 2.0, 1.0, -4.3569, -4.5768, -4.6486, -4.8971, -4.9321, -5.0174, -5.0332, -5.0759, -4.9891, -5.1061, -5.1341, -5.2315, -5.2634, -5.2657, -5.3133, -5.296, -5.3391, -5.376, -5.4364, -5.4422, -5.3983, -5.4766, -5.3969, -5.4134, -5.5014, -5.4377, -5.32, -5.4353, -5.5471, -5.5625, -5.5044, -5.5326, -5.5297, -5.1076, -4.7781, -4.8843, -4.8255, -5.1364, -5.2306, -5.3279, -5.0758, -5.3771, -4.4, -4.7577, -4.7856, -4.8888, -4.9473, -5.0285, -5.2251, -5.2041, -5.1705, -5.2739, -5.2924, -5.2332, -5.1882, -5.2366, -5.3653, -5.3758, -5.4277, -5.4549, -5.5018, -5.4534, -5.5251, -5.4694, -5.482, -5.59, -5.5906, -5.6052, -5.4619, -5.4996, -5.6608, -5.6558, -5.0988, -5.4672, -5.4988, -5.4862, -5.5676, -4.5424, -4.9961, -5.3538, -5.2923, -5.4041, -5.3826, -5.421, -5.4153, -5.439, -5.4413, -4.4102, -4.4601, -4.5518, -4.6738, -4.8376, -4.9426, -4.9391, -5.0091, -5.0824, -5.1197, -5.159, -5.1936, -5.2136, -5.2402, -5.3004, -5.3052, -5.3703, -5.405, -5.4036, -5.4555, -5.374, -5.4695, -5.4609, -5.4803, -5.5327, -5.4936, -5.5722, -5.5314, -5.5447, -5.5086, -5.4878, -5.5106, -5.5038, -5.5142, -4.6734, -5.2778, -4.7275, -5.1304, -5.3768, -4.1258, -4.7369, -4.7414, -4.8037, -4.8402, -4.9319, -5.0085, -5.1456, -5.2545, -5.2485, -5.3091, -5.3556, -5.3053, -5.3815, -5.3169, -5.431, -5.3845, -5.5107, -5.2615, -5.5374, -5.5331, -5.5481, -5.4954, -5.6704, -5.6733, -5.727, -5.743, -5.7637, -5.774, -5.7709, -5.395, -5.4074, -5.4436, -5.476, -5.5159, -4.8154, -5.1417, -4.9938, -4.8479, -5.0842, -5.3216, -5.4396], \"loglift\": [30.0, 29.0, 28.0, 27.0, 26.0, 25.0, 24.0, 23.0, 22.0, 21.0, 20.0, 19.0, 18.0, 17.0, 16.0, 15.0, 14.0, 13.0, 12.0, 11.0, 10.0, 9.0, 8.0, 7.0, 6.0, 5.0, 4.0, 3.0, 2.0, 1.0, 1.311, 1.3108, 1.3104, 1.3097, 1.3096, 1.3094, 1.3092, 1.3091, 1.309, 1.3089, 1.3088, 1.3085, 1.3083, 1.3081, 1.3081, 1.3081, 1.3079, 1.3077, 1.3074, 1.3073, 1.3072, 1.3072, 1.3072, 1.307, 1.307, 1.307, 1.3069, 1.3068, 1.3068, 1.3065, 1.3063, 1.306, 1.3052, 1.1067, 0.9216, 0.8775, 0.6213, 0.6044, 0.7683, 0.9926, -0.0861, 1.0303, 1.3193, 1.3185, 1.3184, 1.3181, 1.3179, 1.3175, 1.3167, 1.3166, 1.3166, 1.3165, 1.3163, 1.3163, 1.3163, 1.3162, 1.316, 1.3158, 1.3156, 1.3155, 1.3152, 1.3152, 1.315, 1.315, 1.3148, 1.3146, 1.3146, 1.3145, 1.3144, 1.3142, 1.3142, 1.3141, 1.3131, 1.3136, 1.3134, 1.3128, 1.3116, 0.4473, 0.6377, 0.9889, 0.833, 1.0321, 0.8826, 1.0331, 0.95, 0.9863, 0.8927, 1.4281, 1.428, 1.4275, 1.4274, 1.4268, 1.4263, 1.4263, 1.4262, 1.4258, 1.4256, 1.4254, 1.4252, 1.4251, 1.425, 1.4247, 1.4245, 1.4241, 1.4239, 1.4238, 1.4236, 1.4234, 1.4232, 1.4232, 1.4232, 1.4231, 1.423, 1.4229, 1.4229, 1.4229, 1.4229, 1.4226, 1.4227, 1.4223, 1.4208, 0.9109, 1.2444, 0.2622, 0.8579, 0.7949, 1.4891, 1.4875, 1.4875, 1.487, 1.487, 1.4867, 1.4862, 1.4859, 1.4853, 1.4853, 1.4849, 1.4847, 1.4847, 1.4845, 1.4844, 1.4843, 1.4843, 1.4837, 1.4836, 1.4834, 1.4833, 1.4832, 1.4829, 1.4824, 1.4821, 1.4817, 1.4816, 1.4814, 1.4813, 1.4812, 1.4807, 1.4807, 1.4796, 1.4782, 1.4706, 1.285, 1.3066, 1.2397, 0.7859, 1.0223, 0.2627, 0.7321]}, \"token.table\": {\"Topic\": [4, 3, 3, 1, 3, 3, 4, 1, 3, 4, 1, 4, 4, 4, 4, 3, 3, 3, 2, 4, 4, 1, 2, 3, 1, 1, 2, 1, 4, 2, 1, 1, 2, 1, 3, 2, 4, 1, 3, 4, 2, 2, 4, 4, 1, 1, 1, 2, 1, 2, 4, 2, 2, 2, 4, 2, 1, 1, 4, 1, 2, 1, 4, 2, 3, 2, 3, 1, 1, 2, 4, 1, 1, 2, 4, 1, 2, 3, 2, 1, 2, 3, 2, 4, 3, 1, 2, 3, 4, 4, 1, 4, 3, 4, 4, 3, 3, 3, 3, 4, 2, 3, 4, 3, 4, 2, 3, 1, 2, 2, 2, 3, 1, 3, 1, 2, 3, 4, 4, 1, 3, 3, 1, 2, 3, 4, 4, 2, 4, 2, 1, 2, 3, 4, 1, 2, 3, 4, 3, 2, 4, 1, 2, 2, 1, 4, 4, 2, 2, 3, 2, 2, 4, 1, 2, 3, 4, 1, 2, 3, 1, 1, 3, 3, 3, 4, 3, 2, 4, 2, 3, 2, 3, 2, 4, 1, 3, 2, 3, 1, 2, 3, 1, 1, 2, 4, 3, 2, 3, 4, 1, 3, 4, 1, 2, 1, 2, 1, 2, 2, 2, 4, 2], \"Freq\": [0.9918568929193189, 0.9929871473606475, 0.9905767719897561, 0.9981578269422214, 0.9900029357280271, 0.1825992682467589, 0.8130015038605694, 0.9944592939072359, 0.9976490129193947, 0.9942370392886835, 0.9972696918159749, 0.9980882486030836, 0.9903399386369761, 0.9877202812507757, 0.9931456490155105, 0.9900613435718745, 0.9945069933452564, 0.9921177253116715, 0.5043818743687186, 0.49347632032831396, 0.9982396845799126, 0.7564857410592872, 0.24231183893305294, 0.9985203369050305, 0.9953380048450977, 0.9913652864492781, 0.9928576395446567, 0.9902462670706642, 0.9941324648861564, 0.9937788447399613, 0.9918941435537841, 0.9979916043560065, 0.9903781169493168, 0.43530807927393905, 0.5635684954885818, 0.21851282863871146, 0.7796935021881295, 0.9962303079956204, 0.9942269067912486, 0.9909690815126463, 0.9970545931879699, 0.9946417302987418, 0.9970737488225341, 0.9971257557263863, 0.9907544117161531, 0.9928229677096534, 0.9914363585230265, 0.9964224958295576, 0.8136240706845341, 0.18513601608390598, 0.9910398027199139, 0.9959431482021973, 0.9972632530819606, 0.9879424209934052, 0.990250910312434, 0.9930344118498524, 0.9960514742077498, 0.7260373129499099, 0.2709094451305634, 0.9941473631066928, 0.9944527507339661, 0.996824511932023, 0.9934766795397295, 0.9922774983164837, 0.9881255895882053, 0.9922140936426228, 0.9931899684822055, 0.9965021999998707, 0.3059764909352528, 0.6912802202611267, 0.9936385269625612, 0.996509080011918, 0.6756484973612883, 0.32326285865130605, 0.9936407023441908, 0.9955069479474535, 0.7481535689397756, 0.2493845229799252, 0.9945002590450305, 0.37440272986054196, 0.6150901990566047, 0.008914350710965285, 0.6535277862110018, 0.3459852985822951, 0.9934601852271423, 0.9972122728331547, 0.9913743272229336, 0.9964740644840625, 0.9963123334825115, 0.9911100758043513, 0.9974278037220106, 0.9902145882612191, 0.37178456546621846, 0.6254728571961087, 0.9939495714695932, 0.9968518946434312, 0.9973933966920839, 0.9979981341523854, 0.9927522727586036, 0.989846846563899, 0.11157919292644462, 0.5942240739571121, 0.29321973955088937, 0.9935691566125612, 0.9986865860558469, 0.16572976205600362, 0.8286488102800181, 0.9910994649656223, 0.9979008555512147, 0.9917390974419132, 0.7159984829193919, 0.2827893167832892, 0.990152389290289, 0.9966312413362128, 0.4997911280961645, 0.17187387210546834, 0.12212090912756961, 0.20579634686312656, 0.9931831986352145, 0.9877273255930923, 0.989426171710695, 0.997160292175387, 0.010545663959606457, 0.010545663959606457, 0.010545663959606457, 0.9807467482434005, 0.9864811393806819, 0.16623429723543465, 0.8311714861771733, 0.9979251667746755, 0.6476262378089614, 0.35325067516852443, 0.9889713926154424, 0.9964237665894486, 0.24627061814652754, 0.4166555225618576, 0.31070188452207254, 0.025772506550217997, 0.9920912463694462, 0.9914175911096297, 0.005936632282093591, 0.998671068665658, 0.9972515336764569, 0.991142414968597, 0.9936804403330011, 0.9979149958323562, 0.9931630941966332, 0.9957070196042387, 0.9936248276496522, 0.9950053274731084, 0.996211393060897, 0.9919720293904315, 0.9885228785889277, 0.4915934061268754, 0.264003866253322, 0.11834656073424778, 0.1274501423291899, 0.9927419015709135, 0.9940766770896321, 0.9892786504828213, 0.993971103428811, 0.9939493911242319, 0.9946680203079042, 0.9900310058838019, 0.009557066490463714, 0.9939349150082263, 0.9915771658825278, 0.9923004383379794, 0.9888501740221882, 0.9974079061216116, 0.9952502705585412, 0.9946215958845056, 0.9909005765609344, 0.010209967521708118, 0.9903668496056874, 0.9980686262804739, 0.9968957903980065, 0.6459841708232235, 0.3537532364031938, 0.9939400370877447, 0.9938292309039397, 0.9906393696514414, 0.9936424516760904, 0.2476951984841615, 0.7492779754145885, 0.9926380943737964, 0.9937291302948006, 0.990831811261603, 0.995297910257419, 0.9981362005027637, 0.9977964776711109, 0.527573074803395, 0.4668788272596416, 0.5813152774971877, 0.41634742847771555, 0.9960573282067902, 0.9948729530753029, 0.28252556769264353, 0.7146234947519806, 0.9948599012938025, 0.9947795393610127, 0.9917061488921152, 0.9963723597343715], \"Term\": [\"abc\", \"accus\", \"appoint\", \"approv\", \"arm\", \"attack\", \"attack\", \"aussi\", \"australian\", \"back\", \"ban\", \"begin\", \"bid\", \"big\", \"blaze\", \"board\", \"bu\", \"busi\", \"call\", \"call\", \"car\", \"chang\", \"chang\", \"charg\", \"citi\", \"claim\", \"club\", \"coast\", \"collaps\", \"commun\", \"concern\", \"council\", \"countri\", \"court\", \"court\", \"crash\", \"crash\", \"cut\", \"day\", \"dead\", \"debat\", \"debt\", \"deni\", \"die\", \"disput\", \"doctor\", \"draw\", \"drought\", \"drug\", \"drug\", \"drum\", \"econom\", \"elect\", \"eye\", \"fail\", \"fall\", \"farmer\", \"fear\", \"fear\", \"figur\", \"final\", \"forc\", \"former\", \"found\", \"fourth\", \"friday\", \"full\", \"fund\", \"futur\", \"futur\", \"garrett\", \"govern\", \"govt\", \"govt\", \"great\", \"group\", \"health\", \"health\", \"held\", \"help\", \"help\", \"help\", \"hit\", \"hit\", \"hope\", \"hospit\", \"injuri\", \"interview\", \"iraq\", \"italian\", \"job\", \"judg\", \"kill\", \"kill\", \"labor\", \"latest\", \"lead\", \"leav\", \"line\", \"lock\", \"man\", \"man\", \"man\", \"market\", \"may\", \"melbourn\", \"melbourn\", \"men\", \"mine\", \"minist\", \"miss\", \"miss\", \"mp\", \"murder\", \"new\", \"new\", \"new\", \"new\", \"news\", \"next\", \"olymp\", \"open\", \"paint\", \"paint\", \"paint\", \"paint\", \"pakistan\", \"pay\", \"pay\", \"perth\", \"plan\", \"plan\", \"point\", \"pole\", \"polic\", \"polic\", \"polic\", \"polic\", \"pull\", \"qld\", \"qld\", \"question\", \"rate\", \"record\", \"reduc\", \"report\", \"resid\", \"review\", \"rise\", \"risk\", \"road\", \"run\", \"rural\", \"say\", \"say\", \"say\", \"say\", \"school\", \"search\", \"second\", \"seek\", \"set\", \"shoot\", \"sieg\", \"singapor\", \"singapor\", \"sold\", \"stage\", \"state\", \"station\", \"stori\", \"student\", \"success\", \"sunday\", \"sunday\", \"support\", \"sydney\", \"take\", \"take\", \"team\", \"telstra\", \"test\", \"titl\", \"trade\", \"trade\", \"train\", \"trial\", \"turnbul\", \"two\", \"union\", \"urg\", \"us\", \"us\", \"wa\", \"wa\", \"want\", \"warn\", \"water\", \"water\", \"win\", \"woman\", \"work\", \"world\"]}, \"R\": 30, \"lambda.step\": 0.01, \"plot.opts\": {\"xlab\": \"PC1\", \"ylab\": \"PC2\"}, \"topic.order\": [3, 2, 4, 1]};\n",
       "\n",
       "function LDAvis_load_lib(url, callback){\n",
       "  var s = document.createElement('script');\n",
       "  s.src = url;\n",
       "  s.async = true;\n",
       "  s.onreadystatechange = s.onload = callback;\n",
       "  s.onerror = function(){console.warn(\"failed to load library \" + url);};\n",
       "  document.getElementsByTagName(\"head\")[0].appendChild(s);\n",
       "}\n",
       "\n",
       "if(typeof(LDAvis) !== \"undefined\"){\n",
       "   // already loaded: just create the visualization\n",
       "   !function(LDAvis){\n",
       "       new LDAvis(\"#\" + \"ldavis_el3671762175236967643868532\", ldavis_el3671762175236967643868532_data);\n",
       "   }(LDAvis);\n",
       "}else if(typeof define === \"function\" && define.amd){\n",
       "   // require.js is available: use it to load d3/LDAvis\n",
       "   require.config({paths: {d3: \"https://d3js.org/d3.v5\"}});\n",
       "   require([\"d3\"], function(d3){\n",
       "      window.d3 = d3;\n",
       "      LDAvis_load_lib(\"https://cdn.jsdelivr.net/gh/bmabey/pyLDAvis@3.4.0/pyLDAvis/js/ldavis.v3.0.0.js\", function(){\n",
       "        new LDAvis(\"#\" + \"ldavis_el3671762175236967643868532\", ldavis_el3671762175236967643868532_data);\n",
       "      });\n",
       "    });\n",
       "}else{\n",
       "    // require.js not available: dynamically load d3 & LDAvis\n",
       "    LDAvis_load_lib(\"https://d3js.org/d3.v5.js\", function(){\n",
       "         LDAvis_load_lib(\"https://cdn.jsdelivr.net/gh/bmabey/pyLDAvis@3.4.0/pyLDAvis/js/ldavis.v3.0.0.js\", function(){\n",
       "                 new LDAvis(\"#\" + \"ldavis_el3671762175236967643868532\", ldavis_el3671762175236967643868532_data);\n",
       "            })\n",
       "         });\n",
       "}\n",
       "</script>"
      ],
      "text/plain": [
       "PreparedData(topic_coordinates=              x         y  topics  cluster       Freq\n",
       "topic                                                \n",
       "2     -0.228495 -0.028623       1        1  26.894909\n",
       "1     -0.149627 -0.010719       2        1  26.672352\n",
       "3      0.219569 -0.235701       3        1  23.918296\n",
       "0      0.158552  0.275042       4        1  22.514443, topic_info=          Term        Freq       Total Category  logprob  loglift\n",
       "1133    report  373.000000  373.000000  Default  30.0000  30.0000\n",
       "647   question  354.000000  354.000000  Default  29.0000  29.0000\n",
       "1043      mine  336.000000  336.000000  Default  28.0000  28.0000\n",
       "886     sydney  298.000000  298.000000  Default  27.0000  27.0000\n",
       "86       charg  284.000000  284.000000  Default  26.0000  26.0000\n",
       "...        ...         ...         ...      ...      ...      ...\n",
       "0        crash  156.609716  201.361175   Topic4  -4.9938   1.2397\n",
       "177       call  181.207138  366.785583   Topic4  -4.8479   0.7859\n",
       "688       kill  143.072462  228.627027   Topic4  -5.0842   1.0223\n",
       "139        man  112.837531  385.376510   Topic4  -5.3216   0.2627\n",
       "124         us  100.275756  214.188338   Topic4  -5.4396   0.7321\n",
       "\n",
       "[198 rows x 6 columns], token_table=      Topic      Freq     Term\n",
       "term                          \n",
       "496       4  0.991857      abc\n",
       "101       3  0.992987    accus\n",
       "833       3  0.990577  appoint\n",
       "68        1  0.998158   approv\n",
       "1411      3  0.990003      arm\n",
       "...     ...       ...      ...\n",
       "600       2  0.714623    water\n",
       "500       2  0.994860      win\n",
       "241       2  0.994780    woman\n",
       "279       4  0.991706     work\n",
       "151       2  0.996372    world\n",
       "\n",
       "[203 rows x 3 columns], R=30, lambda_step=0.01, plot_opts={'xlab': 'PC1', 'ylab': 'PC2'}, topic_order=[3, 2, 4, 1])"
      ]
     },
     "execution_count": 15,
     "metadata": {},
     "output_type": "execute_result"
    }
   ],
   "source": [
    "# TODO: show visualization results of the LDA\n",
    "import pyLDAvis\n",
    "import pyLDAvis.gensim\n",
    "\n",
    "pyLDAvis.enable_notebook()\n",
    "\n",
    "vis = pyLDAvis.gensim.prepare(lda, corpus, dictionary)\n",
    "vis"
   ]
  },
  {
   "cell_type": "markdown",
   "metadata": {},
   "source": [
    "Depending on your results, you can try to fine tune the algorithm: number of topics, hyperparameters...\n",
    "And check with others their results."
   ]
  }
 ],
 "metadata": {
  "kernelspec": {
   "display_name": "Python 3 (ipykernel)",
   "language": "python",
   "name": "python3"
  },
  "language_info": {
   "codemirror_mode": {
    "name": "ipython",
    "version": 3
   },
   "file_extension": ".py",
   "mimetype": "text/x-python",
   "name": "python",
   "nbconvert_exporter": "python",
   "pygments_lexer": "ipython3",
   "version": "3.11.7"
  },
  "toc": {
   "base_numbering": 1,
   "nav_menu": {},
   "number_sections": true,
   "sideBar": true,
   "skip_h1_title": false,
   "title_cell": "Table of Contents",
   "title_sidebar": "Contents",
   "toc_cell": false,
   "toc_position": {},
   "toc_section_display": true,
   "toc_window_display": false
  }
 },
 "nbformat": 4,
 "nbformat_minor": 4
}
